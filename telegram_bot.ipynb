{
  "nbformat": 4,
  "nbformat_minor": 0,
  "metadata": {
    "colab": {
      "provenance": [],
      "authorship_tag": "ABX9TyOo3aX1yE0JIg0lqWYYII1g",
      "include_colab_link": true
    },
    "kernelspec": {
      "name": "python3",
      "display_name": "Python 3"
    },
    "language_info": {
      "name": "python"
    }
  },
  "cells": [
    {
      "cell_type": "markdown",
      "metadata": {
        "id": "view-in-github",
        "colab_type": "text"
      },
      "source": [
        "<a href=\"https://colab.research.google.com/github/anvy87/Automate-with-Python/blob/main/telegram_bot.ipynb\" target=\"_parent\"><img src=\"https://colab.research.google.com/assets/colab-badge.svg\" alt=\"Open In Colab\"/></a>"
      ]
    },
    {
      "cell_type": "code",
      "source": [
        "from typing import Final"
      ],
      "metadata": {
        "id": "TLn1gZbgmiAh"
      },
      "execution_count": null,
      "outputs": []
    },
    {
      "cell_type": "code",
      "source": [
        "pip install python-telegram-bot"
      ],
      "metadata": {
        "colab": {
          "base_uri": "https://localhost:8080/"
        },
        "collapsed": true,
        "id": "dW8y7CA9pWem",
        "outputId": "d7c8b070-5568-4c62-f12d-43c97f58f3a0"
      },
      "execution_count": null,
      "outputs": [
        {
          "output_type": "stream",
          "name": "stdout",
          "text": [
            "Requirement already satisfied: python-telegram-bot in /usr/local/lib/python3.12/dist-packages (22.3)\n",
            "Requirement already satisfied: httpx<0.29,>=0.27 in /usr/local/lib/python3.12/dist-packages (from python-telegram-bot) (0.28.1)\n",
            "Requirement already satisfied: anyio in /usr/local/lib/python3.12/dist-packages (from httpx<0.29,>=0.27->python-telegram-bot) (4.10.0)\n",
            "Requirement already satisfied: certifi in /usr/local/lib/python3.12/dist-packages (from httpx<0.29,>=0.27->python-telegram-bot) (2025.8.3)\n",
            "Requirement already satisfied: httpcore==1.* in /usr/local/lib/python3.12/dist-packages (from httpx<0.29,>=0.27->python-telegram-bot) (1.0.9)\n",
            "Requirement already satisfied: idna in /usr/local/lib/python3.12/dist-packages (from httpx<0.29,>=0.27->python-telegram-bot) (3.10)\n",
            "Requirement already satisfied: h11>=0.16 in /usr/local/lib/python3.12/dist-packages (from httpcore==1.*->httpx<0.29,>=0.27->python-telegram-bot) (0.16.0)\n",
            "Requirement already satisfied: sniffio>=1.1 in /usr/local/lib/python3.12/dist-packages (from anyio->httpx<0.29,>=0.27->python-telegram-bot) (1.3.1)\n",
            "Requirement already satisfied: typing_extensions>=4.5 in /usr/local/lib/python3.12/dist-packages (from anyio->httpx<0.29,>=0.27->python-telegram-bot) (4.14.1)\n"
          ]
        }
      ]
    },
    {
      "cell_type": "code",
      "source": [
        "from telegram import Update\n",
        "from telegram.ext import Application, CommandHandler, MessageHandler, filters, ContextTypes"
      ],
      "metadata": {
        "id": "TWgbG2Piph63"
      },
      "execution_count": null,
      "outputs": []
    },
    {
      "cell_type": "code",
      "source": [
        "TOKEN: Final = '8069228969:AAE_dGBRkRQReThY_w2_fdB_5iaDRcakqnM'\n",
        "BOT_USERNAME: Final = '@cheenuz_bot'"
      ],
      "metadata": {
        "id": "0gzWIQ0doHVR"
      },
      "execution_count": null,
      "outputs": []
    },
    {
      "cell_type": "code",
      "source": [
        "# Commands\n",
        "\n",
        "async def start_command(update: Update, context: ContextTypes.DEFAULT_TYPE):\n",
        "    await update.message.reply_text('Hello there! I am a bot. What\\'s up?')\n",
        "\n",
        "async def help_command(update: Update, context: ContextTypes.DEFAULT_TYPE):\n",
        "    await update.message.reply_text('Please type something so that I can respond!')\n",
        "\n",
        "async def custom_command(update: Update, context: ContextTypes.DEFAULT_TYPE):\n",
        "    await update.message.reply_text('This is a custom command')\n"
      ],
      "metadata": {
        "id": "9wAWdODspx4P"
      },
      "execution_count": null,
      "outputs": []
    },
    {
      "cell_type": "code",
      "source": [
        "# Responses\n",
        "\n",
        "def handle_response(text: str) -> str:\n",
        "    processed: str = text.lower()\n",
        "\n",
        "    if 'hello' in processed:\n",
        "        return 'Hey there!'\n",
        "\n",
        "    if 'how are you' in processed:\n",
        "        return 'I\\'m good, thanks!'\n",
        "\n",
        "    return 'I didn\\'t understand that...'"
      ],
      "metadata": {
        "id": "B91225QDtrUG"
      },
      "execution_count": null,
      "outputs": []
    },
    {
      "cell_type": "code",
      "source": [
        "async def handle_message(update: Update, context: ContextTypes.DEFAULT_TYPE):\n",
        "    message_type: str = update.message.chat.type\n",
        "    text: str = update.message.text\n",
        "\n",
        "    print(f'User ({update.message.chat.id}) in {message_type}: \"{text}\"')\n",
        "\n",
        "    if message_type == group:\n",
        "      if BOT_USERNAME in text:\n",
        "        new_text: str = text.replace(BOT_USERNAME, '').strip()\n",
        "        response: str = handle_response(new_text)\n",
        "      else:\n",
        "        return\n",
        "    else:\n",
        "      response: str = handle_response(text)\n",
        "\n",
        "    print('Bot:', response)\n",
        "    await update.message.reply_text(response)"
      ],
      "metadata": {
        "id": "P3Uxe0hbuJ7D"
      },
      "execution_count": null,
      "outputs": []
    },
    {
      "cell_type": "code",
      "source": [
        "async def error(update: Update, context: ContextTypes.DEFAULT_TYPE):\n",
        "    print(f'Update {update} caused error {context.error}')"
      ],
      "metadata": {
        "id": "qQ0EFeclvT3r"
      },
      "execution_count": null,
      "outputs": []
    },
    {
      "cell_type": "code",
      "source": [
        "if __name__ == '__main__':\n",
        "  print(\"starting\")\n",
        "  app = Application.builder().token(TOKEN).build()\n",
        "\n",
        "  # Commands\n",
        "  app.add_handler(CommandHandler('start', start_command))\n",
        "  app.add_handler(CommandHandler('help', help_command))\n",
        "  app.add_handler(CommandHandler('custom', custom_command))\n",
        "\n",
        "  # Messages\n",
        "  app.add_handler(MessageHandler(filters.TEXT, handle_message))\n",
        "\n",
        "  # Errors\n",
        "  app.add_error_handler(error)\n",
        "  print(\"ending\")"
      ],
      "metadata": {
        "colab": {
          "base_uri": "https://localhost:8080/"
        },
        "id": "Jj4-6-7xy_07",
        "outputId": "25b5f9d2-6954-46e3-d12b-67473080301d"
      },
      "execution_count": null,
      "outputs": [
        {
          "output_type": "stream",
          "name": "stdout",
          "text": [
            "starting\n",
            "ending\n"
          ]
        }
      ]
    },
    {
      "cell_type": "code",
      "source": [],
      "metadata": {
        "id": "KbwZu4wuznp6"
      },
      "execution_count": null,
      "outputs": []
    }
  ]
}